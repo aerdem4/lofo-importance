{
 "cells": [
  {
   "cell_type": "code",
   "execution_count": 1,
   "metadata": {
    "ExecuteTime": {
     "end_time": "2019-01-14T12:48:04.450500Z",
     "start_time": "2019-01-14T12:48:03.586150Z"
    }
   },
   "outputs": [
    {
     "name": "stderr",
     "output_type": "stream",
     "text": [
      "/home/aerdem/projects/lofo-importance/lofo/lofo_importance.py:3: TqdmExperimentalWarning: Using `tqdm.autonotebook.tqdm` in notebook mode. Use `tqdm.tqdm` instead to force console mode (e.g. in jupyter console)\n",
      "  from tqdm.autonotebook import tqdm\n"
     ]
    }
   ],
   "source": [
    "import numpy as np\n",
    "import pandas as pd\n",
    "from sklearn.linear_model import LinearRegression\n",
    "from sklearn.ensemble import RandomForestClassifier\n",
    "from sklearn.model_selection import KFold\n",
    "from lofo import LOFOImportance, FLOFOImportance, Dataset, plot_importance"
   ]
  },
  {
   "cell_type": "code",
   "execution_count": 2,
   "metadata": {
    "ExecuteTime": {
     "end_time": "2019-01-14T12:48:04.513904Z",
     "start_time": "2019-01-14T12:48:04.453322Z"
    }
   },
   "outputs": [
    {
     "data": {
      "text/html": [
       "<div>\n",
       "<style scoped>\n",
       "    .dataframe tbody tr th:only-of-type {\n",
       "        vertical-align: middle;\n",
       "    }\n",
       "\n",
       "    .dataframe tbody tr th {\n",
       "        vertical-align: top;\n",
       "    }\n",
       "\n",
       "    .dataframe thead th {\n",
       "        text-align: right;\n",
       "    }\n",
       "</style>\n",
       "<table border=\"1\" class=\"dataframe\">\n",
       "  <thead>\n",
       "    <tr style=\"text-align: right;\">\n",
       "      <th></th>\n",
       "      <th>A</th>\n",
       "      <th>B</th>\n",
       "      <th>C</th>\n",
       "      <th>D</th>\n",
       "      <th>D2</th>\n",
       "      <th>target</th>\n",
       "      <th>binary_target</th>\n",
       "    </tr>\n",
       "  </thead>\n",
       "  <tbody>\n",
       "    <tr>\n",
       "      <th>0</th>\n",
       "      <td>0.548814</td>\n",
       "      <td>0.592880</td>\n",
       "      <td>0.811518</td>\n",
       "      <td>0.413962</td>\n",
       "      <td>0.443227</td>\n",
       "      <td>1.486305</td>\n",
       "      <td>1</td>\n",
       "    </tr>\n",
       "    <tr>\n",
       "      <th>1</th>\n",
       "      <td>0.715189</td>\n",
       "      <td>0.010064</td>\n",
       "      <td>0.476084</td>\n",
       "      <td>0.629618</td>\n",
       "      <td>0.686270</td>\n",
       "      <td>0.529949</td>\n",
       "      <td>0</td>\n",
       "    </tr>\n",
       "    <tr>\n",
       "      <th>2</th>\n",
       "      <td>0.602763</td>\n",
       "      <td>0.475826</td>\n",
       "      <td>0.523156</td>\n",
       "      <td>0.778584</td>\n",
       "      <td>0.792326</td>\n",
       "      <td>1.434674</td>\n",
       "      <td>1</td>\n",
       "    </tr>\n",
       "    <tr>\n",
       "      <th>3</th>\n",
       "      <td>0.544883</td>\n",
       "      <td>0.708770</td>\n",
       "      <td>0.250521</td>\n",
       "      <td>0.851558</td>\n",
       "      <td>0.886529</td>\n",
       "      <td>1.952046</td>\n",
       "      <td>1</td>\n",
       "    </tr>\n",
       "    <tr>\n",
       "      <th>4</th>\n",
       "      <td>0.423655</td>\n",
       "      <td>0.043975</td>\n",
       "      <td>0.605043</td>\n",
       "      <td>0.816413</td>\n",
       "      <td>0.821734</td>\n",
       "      <td>0.480267</td>\n",
       "      <td>0</td>\n",
       "    </tr>\n",
       "  </tbody>\n",
       "</table>\n",
       "</div>"
      ],
      "text/plain": [
       "          A         B         C         D        D2    target  binary_target\n",
       "0  0.548814  0.592880  0.811518  0.413962  0.443227  1.486305              1\n",
       "1  0.715189  0.010064  0.476084  0.629618  0.686270  0.529949              0\n",
       "2  0.602763  0.475826  0.523156  0.778584  0.792326  1.434674              1\n",
       "3  0.544883  0.708770  0.250521  0.851558  0.886529  1.952046              1\n",
       "4  0.423655  0.043975  0.605043  0.816413  0.821734  0.480267              0"
      ]
     },
     "execution_count": 2,
     "metadata": {},
     "output_type": "execute_result"
    }
   ],
   "source": [
    "from data.test_data import generate_test_data, generate_unstructured_test_data\n",
    "\n",
    "df = generate_test_data(1000)\n",
    "df.head()"
   ]
  },
  {
   "cell_type": "code",
   "execution_count": 3,
   "metadata": {
    "ExecuteTime": {
     "end_time": "2019-01-14T12:48:04.689772Z",
     "start_time": "2019-01-14T12:48:04.527994Z"
    }
   },
   "outputs": [
    {
     "data": {
      "application/vnd.jupyter.widget-view+json": {
       "model_id": "581710f7ae654f5387a06a2befa408e4",
       "version_major": 2,
       "version_minor": 0
      },
      "text/plain": [
       "HBox(children=(FloatProgress(value=0.0, max=4.0), HTML(value='')))"
      ]
     },
     "metadata": {},
     "output_type": "display_data"
    },
    {
     "name": "stdout",
     "output_type": "stream",
     "text": [
      "\n"
     ]
    },
    {
     "data": {
      "text/html": [
       "<div>\n",
       "<style scoped>\n",
       "    .dataframe tbody tr th:only-of-type {\n",
       "        vertical-align: middle;\n",
       "    }\n",
       "\n",
       "    .dataframe tbody tr th {\n",
       "        vertical-align: top;\n",
       "    }\n",
       "\n",
       "    .dataframe thead th {\n",
       "        text-align: right;\n",
       "    }\n",
       "</style>\n",
       "<table border=\"1\" class=\"dataframe\">\n",
       "  <thead>\n",
       "    <tr style=\"text-align: right;\">\n",
       "      <th></th>\n",
       "      <th>feature</th>\n",
       "      <th>importance_mean</th>\n",
       "      <th>importance_std</th>\n",
       "      <th>val_imp_0</th>\n",
       "      <th>val_imp_1</th>\n",
       "      <th>val_imp_2</th>\n",
       "      <th>val_imp_3</th>\n",
       "      <th>val_imp_4</th>\n",
       "      <th>val_imp_5</th>\n",
       "      <th>val_imp_6</th>\n",
       "      <th>val_imp_7</th>\n",
       "      <th>val_imp_8</th>\n",
       "      <th>val_imp_9</th>\n",
       "    </tr>\n",
       "  </thead>\n",
       "  <tbody>\n",
       "    <tr>\n",
       "      <th>1</th>\n",
       "      <td>B</td>\n",
       "      <td>0.540217</td>\n",
       "      <td>0.016008</td>\n",
       "      <td>0.532118</td>\n",
       "      <td>0.544225</td>\n",
       "      <td>0.513259</td>\n",
       "      <td>0.524307</td>\n",
       "      <td>0.525612</td>\n",
       "      <td>0.542536</td>\n",
       "      <td>0.550588</td>\n",
       "      <td>5.682745e-01</td>\n",
       "      <td>0.559869</td>\n",
       "      <td>0.541383</td>\n",
       "    </tr>\n",
       "    <tr>\n",
       "      <th>3</th>\n",
       "      <td>D</td>\n",
       "      <td>0.089187</td>\n",
       "      <td>0.002629</td>\n",
       "      <td>0.088832</td>\n",
       "      <td>0.086291</td>\n",
       "      <td>0.087612</td>\n",
       "      <td>0.085380</td>\n",
       "      <td>0.086004</td>\n",
       "      <td>0.090378</td>\n",
       "      <td>0.091582</td>\n",
       "      <td>9.345964e-02</td>\n",
       "      <td>0.090800</td>\n",
       "      <td>0.091527</td>\n",
       "    </tr>\n",
       "    <tr>\n",
       "      <th>0</th>\n",
       "      <td>A</td>\n",
       "      <td>0.088167</td>\n",
       "      <td>0.002935</td>\n",
       "      <td>0.090739</td>\n",
       "      <td>0.086158</td>\n",
       "      <td>0.085259</td>\n",
       "      <td>0.093299</td>\n",
       "      <td>0.088281</td>\n",
       "      <td>0.088402</td>\n",
       "      <td>0.083172</td>\n",
       "      <td>9.189529e-02</td>\n",
       "      <td>0.087086</td>\n",
       "      <td>0.087376</td>\n",
       "    </tr>\n",
       "    <tr>\n",
       "      <th>2</th>\n",
       "      <td>C</td>\n",
       "      <td>0.000002</td>\n",
       "      <td>0.000033</td>\n",
       "      <td>0.000088</td>\n",
       "      <td>-0.000020</td>\n",
       "      <td>-0.000012</td>\n",
       "      <td>-0.000027</td>\n",
       "      <td>-0.000016</td>\n",
       "      <td>0.000004</td>\n",
       "      <td>0.000031</td>\n",
       "      <td>-8.312825e-07</td>\n",
       "      <td>-0.000002</td>\n",
       "      <td>-0.000021</td>\n",
       "    </tr>\n",
       "  </tbody>\n",
       "</table>\n",
       "</div>"
      ],
      "text/plain": [
       "  feature  importance_mean  importance_std  val_imp_0  val_imp_1  val_imp_2  \\\n",
       "1       B         0.540217        0.016008   0.532118   0.544225   0.513259   \n",
       "3       D         0.089187        0.002629   0.088832   0.086291   0.087612   \n",
       "0       A         0.088167        0.002935   0.090739   0.086158   0.085259   \n",
       "2       C         0.000002        0.000033   0.000088  -0.000020  -0.000012   \n",
       "\n",
       "   val_imp_3  val_imp_4  val_imp_5  val_imp_6     val_imp_7  val_imp_8  \\\n",
       "1   0.524307   0.525612   0.542536   0.550588  5.682745e-01   0.559869   \n",
       "3   0.085380   0.086004   0.090378   0.091582  9.345964e-02   0.090800   \n",
       "0   0.093299   0.088281   0.088402   0.083172  9.189529e-02   0.087086   \n",
       "2  -0.000027  -0.000016   0.000004   0.000031 -8.312825e-07  -0.000002   \n",
       "\n",
       "   val_imp_9  \n",
       "1   0.541383  \n",
       "3   0.091527  \n",
       "0   0.087376  \n",
       "2  -0.000021  "
      ]
     },
     "execution_count": 3,
     "metadata": {},
     "output_type": "execute_result"
    }
   ],
   "source": [
    "lr = LinearRegression()\n",
    "lr.fit(df[[\"A\", \"B\", \"C\", \"D\"]], df[\"target\"])\n",
    "\n",
    "fi = FLOFOImportance(lr, df, [\"A\", \"B\", \"C\", \"D\"], 'target', scoring=\"neg_mean_absolute_error\")\n",
    "\n",
    "importances = fi.get_importance()\n",
    "importances"
   ]
  },
  {
   "cell_type": "code",
   "execution_count": 4,
   "metadata": {},
   "outputs": [
    {
     "data": {
      "application/vnd.jupyter.widget-view+json": {
       "model_id": "83d88dddf5bd4965937f0ba96949fcd2",
       "version_major": 2,
       "version_minor": 0
      },
      "text/plain": [
       "HBox(children=(FloatProgress(value=0.0, max=4.0), HTML(value='')))"
      ]
     },
     "metadata": {},
     "output_type": "display_data"
    },
    {
     "name": "stdout",
     "output_type": "stream",
     "text": [
      "\n"
     ]
    },
    {
     "data": {
      "text/html": [
       "<div>\n",
       "<style scoped>\n",
       "    .dataframe tbody tr th:only-of-type {\n",
       "        vertical-align: middle;\n",
       "    }\n",
       "\n",
       "    .dataframe tbody tr th {\n",
       "        vertical-align: top;\n",
       "    }\n",
       "\n",
       "    .dataframe thead th {\n",
       "        text-align: right;\n",
       "    }\n",
       "</style>\n",
       "<table border=\"1\" class=\"dataframe\">\n",
       "  <thead>\n",
       "    <tr style=\"text-align: right;\">\n",
       "      <th></th>\n",
       "      <th>feature</th>\n",
       "      <th>importance_mean</th>\n",
       "      <th>importance_std</th>\n",
       "      <th>val_imp_0</th>\n",
       "      <th>val_imp_1</th>\n",
       "      <th>val_imp_2</th>\n",
       "      <th>val_imp_3</th>\n",
       "    </tr>\n",
       "  </thead>\n",
       "  <tbody>\n",
       "    <tr>\n",
       "      <th>1</th>\n",
       "      <td>B</td>\n",
       "      <td>0.447206</td>\n",
       "      <td>0.024244</td>\n",
       "      <td>0.432768</td>\n",
       "      <td>0.418559</td>\n",
       "      <td>0.454714</td>\n",
       "      <td>0.482782</td>\n",
       "    </tr>\n",
       "    <tr>\n",
       "      <th>3</th>\n",
       "      <td>A</td>\n",
       "      <td>0.053247</td>\n",
       "      <td>0.006699</td>\n",
       "      <td>0.049021</td>\n",
       "      <td>0.044487</td>\n",
       "      <td>0.060269</td>\n",
       "      <td>0.059213</td>\n",
       "    </tr>\n",
       "    <tr>\n",
       "      <th>2</th>\n",
       "      <td>D</td>\n",
       "      <td>0.052560</td>\n",
       "      <td>0.003008</td>\n",
       "      <td>0.051912</td>\n",
       "      <td>0.057638</td>\n",
       "      <td>0.050646</td>\n",
       "      <td>0.050044</td>\n",
       "    </tr>\n",
       "    <tr>\n",
       "      <th>0</th>\n",
       "      <td>C</td>\n",
       "      <td>-0.000057</td>\n",
       "      <td>0.000116</td>\n",
       "      <td>0.000119</td>\n",
       "      <td>-0.000165</td>\n",
       "      <td>-0.000023</td>\n",
       "      <td>-0.000159</td>\n",
       "    </tr>\n",
       "  </tbody>\n",
       "</table>\n",
       "</div>"
      ],
      "text/plain": [
       "  feature  importance_mean  importance_std  val_imp_0  val_imp_1  val_imp_2  \\\n",
       "1       B         0.447206        0.024244   0.432768   0.418559   0.454714   \n",
       "3       A         0.053247        0.006699   0.049021   0.044487   0.060269   \n",
       "2       D         0.052560        0.003008   0.051912   0.057638   0.050646   \n",
       "0       C        -0.000057        0.000116   0.000119  -0.000165  -0.000023   \n",
       "\n",
       "   val_imp_3  \n",
       "1   0.482782  \n",
       "3   0.059213  \n",
       "2   0.050044  \n",
       "0  -0.000159  "
      ]
     },
     "execution_count": 4,
     "metadata": {},
     "output_type": "execute_result"
    }
   ],
   "source": [
    "from sklearn.metrics import make_scorer, mean_absolute_error\n",
    "\n",
    "scorer = make_scorer(mean_absolute_error, greater_is_better=False)\n",
    "cv = KFold(n_splits=4, shuffle=True, random_state=0)\n",
    "\n",
    "dataset = Dataset(df=df, target=\"target\", features=[\"A\", \"B\", \"C\", \"D\"])\n",
    "fi = LOFOImportance(dataset, scoring=scorer, model=LinearRegression(), cv=cv)\n",
    "\n",
    "importances = fi.get_importance()\n",
    "importances"
   ]
  },
  {
   "cell_type": "code",
   "execution_count": 5,
   "metadata": {
    "ExecuteTime": {
     "end_time": "2019-01-14T12:48:05.103111Z",
     "start_time": "2019-01-14T12:48:04.692682Z"
    }
   },
   "outputs": [
    {
     "data": {
      "application/vnd.jupyter.widget-view+json": {
       "model_id": "b3feb8d91fc54a699c316d64a3729bb6",
       "version_major": 2,
       "version_minor": 0
      },
      "text/plain": [
       "HBox(children=(FloatProgress(value=0.0, max=4.0), HTML(value='')))"
      ]
     },
     "metadata": {},
     "output_type": "display_data"
    },
    {
     "name": "stdout",
     "output_type": "stream",
     "text": [
      "\n"
     ]
    },
    {
     "data": {
      "text/html": [
       "<div>\n",
       "<style scoped>\n",
       "    .dataframe tbody tr th:only-of-type {\n",
       "        vertical-align: middle;\n",
       "    }\n",
       "\n",
       "    .dataframe tbody tr th {\n",
       "        vertical-align: top;\n",
       "    }\n",
       "\n",
       "    .dataframe thead th {\n",
       "        text-align: right;\n",
       "    }\n",
       "</style>\n",
       "<table border=\"1\" class=\"dataframe\">\n",
       "  <thead>\n",
       "    <tr style=\"text-align: right;\">\n",
       "      <th></th>\n",
       "      <th>feature</th>\n",
       "      <th>importance_mean</th>\n",
       "      <th>importance_std</th>\n",
       "      <th>val_imp_0</th>\n",
       "      <th>val_imp_1</th>\n",
       "      <th>val_imp_2</th>\n",
       "      <th>val_imp_3</th>\n",
       "    </tr>\n",
       "  </thead>\n",
       "  <tbody>\n",
       "    <tr>\n",
       "      <th>1</th>\n",
       "      <td>B</td>\n",
       "      <td>0.414</td>\n",
       "      <td>0.025377</td>\n",
       "      <td>0.432</td>\n",
       "      <td>0.416</td>\n",
       "      <td>0.436</td>\n",
       "      <td>0.372</td>\n",
       "    </tr>\n",
       "    <tr>\n",
       "      <th>2</th>\n",
       "      <td>D</td>\n",
       "      <td>0.040</td>\n",
       "      <td>0.007483</td>\n",
       "      <td>0.032</td>\n",
       "      <td>0.052</td>\n",
       "      <td>0.040</td>\n",
       "      <td>0.036</td>\n",
       "    </tr>\n",
       "    <tr>\n",
       "      <th>3</th>\n",
       "      <td>A</td>\n",
       "      <td>0.038</td>\n",
       "      <td>0.012806</td>\n",
       "      <td>0.044</td>\n",
       "      <td>0.024</td>\n",
       "      <td>0.056</td>\n",
       "      <td>0.028</td>\n",
       "    </tr>\n",
       "    <tr>\n",
       "      <th>0</th>\n",
       "      <td>C</td>\n",
       "      <td>0.016</td>\n",
       "      <td>0.007483</td>\n",
       "      <td>0.016</td>\n",
       "      <td>0.028</td>\n",
       "      <td>0.008</td>\n",
       "      <td>0.012</td>\n",
       "    </tr>\n",
       "  </tbody>\n",
       "</table>\n",
       "</div>"
      ],
      "text/plain": [
       "  feature  importance_mean  importance_std  val_imp_0  val_imp_1  val_imp_2  \\\n",
       "1       B            0.414        0.025377      0.432      0.416      0.436   \n",
       "2       D            0.040        0.007483      0.032      0.052      0.040   \n",
       "3       A            0.038        0.012806      0.044      0.024      0.056   \n",
       "0       C            0.016        0.007483      0.016      0.028      0.008   \n",
       "\n",
       "   val_imp_3  \n",
       "1      0.372  \n",
       "2      0.036  \n",
       "3      0.028  \n",
       "0      0.012  "
      ]
     },
     "execution_count": 5,
     "metadata": {},
     "output_type": "execute_result"
    }
   ],
   "source": [
    "rf = RandomForestClassifier(n_estimators=10, max_depth=5, random_state=0)\n",
    "\n",
    "dataset = Dataset(df=df, target=\"binary_target\", features=[\"A\", \"B\", \"C\", \"D\"])\n",
    "fi = LOFOImportance(dataset, scoring='accuracy', model=rf, cv=cv)\n",
    "\n",
    "importances = fi.get_importance()\n",
    "importances"
   ]
  },
  {
   "cell_type": "code",
   "execution_count": 6,
   "metadata": {},
   "outputs": [
    {
     "data": {
      "application/vnd.jupyter.widget-view+json": {
       "model_id": "8c0f86bcbf3147ed8944d3da1e96aa6c",
       "version_major": 2,
       "version_minor": 0
      },
      "text/plain": [
       "HBox(children=(FloatProgress(value=0.0, max=4.0), HTML(value='')))"
      ]
     },
     "metadata": {},
     "output_type": "display_data"
    },
    {
     "name": "stdout",
     "output_type": "stream",
     "text": [
      "\n"
     ]
    },
    {
     "data": {
      "text/html": [
       "<div>\n",
       "<style scoped>\n",
       "    .dataframe tbody tr th:only-of-type {\n",
       "        vertical-align: middle;\n",
       "    }\n",
       "\n",
       "    .dataframe tbody tr th {\n",
       "        vertical-align: top;\n",
       "    }\n",
       "\n",
       "    .dataframe thead th {\n",
       "        text-align: right;\n",
       "    }\n",
       "</style>\n",
       "<table border=\"1\" class=\"dataframe\">\n",
       "  <thead>\n",
       "    <tr style=\"text-align: right;\">\n",
       "      <th></th>\n",
       "      <th>feature</th>\n",
       "      <th>importance_mean</th>\n",
       "      <th>importance_std</th>\n",
       "      <th>val_imp_0</th>\n",
       "      <th>val_imp_1</th>\n",
       "      <th>val_imp_2</th>\n",
       "      <th>val_imp_3</th>\n",
       "    </tr>\n",
       "  </thead>\n",
       "  <tbody>\n",
       "    <tr>\n",
       "      <th>1</th>\n",
       "      <td>B</td>\n",
       "      <td>0.210579</td>\n",
       "      <td>0.006848</td>\n",
       "      <td>0.218465</td>\n",
       "      <td>0.199696</td>\n",
       "      <td>0.210972</td>\n",
       "      <td>0.213183</td>\n",
       "    </tr>\n",
       "    <tr>\n",
       "      <th>3</th>\n",
       "      <td>A</td>\n",
       "      <td>0.011146</td>\n",
       "      <td>0.006722</td>\n",
       "      <td>0.002382</td>\n",
       "      <td>0.007626</td>\n",
       "      <td>0.014447</td>\n",
       "      <td>0.020127</td>\n",
       "    </tr>\n",
       "    <tr>\n",
       "      <th>2</th>\n",
       "      <td>D</td>\n",
       "      <td>0.008892</td>\n",
       "      <td>0.005367</td>\n",
       "      <td>0.000255</td>\n",
       "      <td>0.008582</td>\n",
       "      <td>0.012859</td>\n",
       "      <td>0.013872</td>\n",
       "    </tr>\n",
       "    <tr>\n",
       "      <th>0</th>\n",
       "      <td>C</td>\n",
       "      <td>-0.000171</td>\n",
       "      <td>0.004295</td>\n",
       "      <td>-0.001984</td>\n",
       "      <td>-0.005786</td>\n",
       "      <td>0.001156</td>\n",
       "      <td>0.005931</td>\n",
       "    </tr>\n",
       "  </tbody>\n",
       "</table>\n",
       "</div>"
      ],
      "text/plain": [
       "  feature  importance_mean  importance_std  val_imp_0  val_imp_1  val_imp_2  \\\n",
       "1       B         0.210579        0.006848   0.218465   0.199696   0.210972   \n",
       "3       A         0.011146        0.006722   0.002382   0.007626   0.014447   \n",
       "2       D         0.008892        0.005367   0.000255   0.008582   0.012859   \n",
       "0       C        -0.000171        0.004295  -0.001984  -0.005786   0.001156   \n",
       "\n",
       "   val_imp_3  \n",
       "1   0.213183  \n",
       "3   0.020127  \n",
       "2   0.013872  \n",
       "0   0.005931  "
      ]
     },
     "execution_count": 6,
     "metadata": {},
     "output_type": "execute_result"
    }
   ],
   "source": [
    "df = generate_unstructured_test_data(10000)\n",
    "\n",
    "dataset = Dataset(df=df, target=\"binary_target\", features=[\"A\", \"B\", \"C\", \"D\"])\n",
    "fi = LOFOImportance(dataset, 'roc_auc')\n",
    "\n",
    "importances = fi.get_importance()\n",
    "importances"
   ]
  },
  {
   "cell_type": "code",
   "execution_count": 7,
   "metadata": {},
   "outputs": [
    {
     "data": {
      "application/vnd.jupyter.widget-view+json": {
       "model_id": "0bebf9dcd42d41cb862a45b1678d6807",
       "version_major": 2,
       "version_minor": 0
      },
      "text/plain": [
       "HBox(children=(FloatProgress(value=0.0, max=5.0), HTML(value='')))"
      ]
     },
     "metadata": {},
     "output_type": "display_data"
    },
    {
     "name": "stdout",
     "output_type": "stream",
     "text": [
      "\n"
     ]
    },
    {
     "data": {
      "text/html": [
       "<div>\n",
       "<style scoped>\n",
       "    .dataframe tbody tr th:only-of-type {\n",
       "        vertical-align: middle;\n",
       "    }\n",
       "\n",
       "    .dataframe tbody tr th {\n",
       "        vertical-align: top;\n",
       "    }\n",
       "\n",
       "    .dataframe thead th {\n",
       "        text-align: right;\n",
       "    }\n",
       "</style>\n",
       "<table border=\"1\" class=\"dataframe\">\n",
       "  <thead>\n",
       "    <tr style=\"text-align: right;\">\n",
       "      <th></th>\n",
       "      <th>feature</th>\n",
       "      <th>importance_mean</th>\n",
       "      <th>importance_std</th>\n",
       "      <th>val_imp_0</th>\n",
       "      <th>val_imp_1</th>\n",
       "      <th>val_imp_2</th>\n",
       "      <th>val_imp_3</th>\n",
       "    </tr>\n",
       "  </thead>\n",
       "  <tbody>\n",
       "    <tr>\n",
       "      <th>0</th>\n",
       "      <td>E</td>\n",
       "      <td>0.535000</td>\n",
       "      <td>0.004561</td>\n",
       "      <td>0.532726</td>\n",
       "      <td>0.529386</td>\n",
       "      <td>0.541721</td>\n",
       "      <td>0.536167</td>\n",
       "    </tr>\n",
       "    <tr>\n",
       "      <th>2</th>\n",
       "      <td>B</td>\n",
       "      <td>0.300475</td>\n",
       "      <td>0.003054</td>\n",
       "      <td>0.299546</td>\n",
       "      <td>0.301227</td>\n",
       "      <td>0.296328</td>\n",
       "      <td>0.304798</td>\n",
       "    </tr>\n",
       "    <tr>\n",
       "      <th>4</th>\n",
       "      <td>D</td>\n",
       "      <td>0.047203</td>\n",
       "      <td>0.001125</td>\n",
       "      <td>0.048536</td>\n",
       "      <td>0.047944</td>\n",
       "      <td>0.046706</td>\n",
       "      <td>0.045625</td>\n",
       "    </tr>\n",
       "    <tr>\n",
       "      <th>3</th>\n",
       "      <td>A</td>\n",
       "      <td>0.038683</td>\n",
       "      <td>0.001377</td>\n",
       "      <td>0.038191</td>\n",
       "      <td>0.040831</td>\n",
       "      <td>0.037031</td>\n",
       "      <td>0.038679</td>\n",
       "    </tr>\n",
       "    <tr>\n",
       "      <th>1</th>\n",
       "      <td>C</td>\n",
       "      <td>-0.000693</td>\n",
       "      <td>0.000305</td>\n",
       "      <td>-0.000725</td>\n",
       "      <td>-0.000689</td>\n",
       "      <td>-0.000249</td>\n",
       "      <td>-0.001109</td>\n",
       "    </tr>\n",
       "  </tbody>\n",
       "</table>\n",
       "</div>"
      ],
      "text/plain": [
       "  feature  importance_mean  importance_std  val_imp_0  val_imp_1  val_imp_2  \\\n",
       "0       E         0.535000        0.004561   0.532726   0.529386   0.541721   \n",
       "2       B         0.300475        0.003054   0.299546   0.301227   0.296328   \n",
       "4       D         0.047203        0.001125   0.048536   0.047944   0.046706   \n",
       "3       A         0.038683        0.001377   0.038191   0.040831   0.037031   \n",
       "1       C        -0.000693        0.000305  -0.000725  -0.000689  -0.000249   \n",
       "\n",
       "   val_imp_3  \n",
       "0   0.536167  \n",
       "2   0.304798  \n",
       "4   0.045625  \n",
       "3   0.038679  \n",
       "1  -0.001109  "
      ]
     },
     "execution_count": 7,
     "metadata": {},
     "output_type": "execute_result"
    }
   ],
   "source": [
    "dataset = Dataset(df=df, target=\"target\", features=[\"A\", \"B\", \"C\", \"D\", \"E\"])\n",
    "fi = LOFOImportance(dataset, scorer, n_jobs=-1)\n",
    "\n",
    "importances = fi.get_importance()\n",
    "importances"
   ]
  },
  {
   "cell_type": "code",
   "execution_count": 8,
   "metadata": {},
   "outputs": [
    {
     "data": {
      "image/png": "[encoded data removed]",
      "text/plain": [
       "<Figure size 576x576 with 1 Axes>"
      ]
     },
     "metadata": {
      "needs_background": "light"
     },
     "output_type": "display_data"
    }
   ],
   "source": [
    "%matplotlib inline\n",
    "plot_importance(importances)"
   ]
  },
  {
   "cell_type": "code",
   "execution_count": 9,
   "metadata": {},
   "outputs": [
    {
     "name": "stdout",
     "output_type": "stream",
     "text": [
      "Automatically grouped features by correlation:\n",
      "1 ['D', 'D2']\n"
     ]
    },
    {
     "data": {
      "application/vnd.jupyter.widget-view+json": {
       "model_id": "1b33b416ef064bb7acd791d8345ae7fd",
       "version_major": 2,
       "version_minor": 0
      },
      "text/plain": [
       "HBox(children=(FloatProgress(value=0.0, max=5.0), HTML(value='')))"
      ]
     },
     "metadata": {},
     "output_type": "display_data"
    },
    {
     "name": "stdout",
     "output_type": "stream",
     "text": [
      "\n"
     ]
    },
    {
     "data": {
      "image/png": "[encoded data removed]",
      "text/plain": [
       "<Figure size 576x576 with 1 Axes>"
      ]
     },
     "metadata": {
      "needs_background": "light"
     },
     "output_type": "display_data"
    }
   ],
   "source": [
    "dataset = Dataset(df=df, target=\"target\", features=[\"A\", \"B\", \"C\", \"D\", \"D2\", \"E\"], \n",
    "                  auto_group_threshold=0.7)\n",
    "fi = LOFOImportance(dataset, scorer, n_jobs=-1)\n",
    "\n",
    "importances = fi.get_importance()\n",
    "importances\n",
    "\n",
    "\n",
    "plot_importance(importances, kind=\"box\")"
   ]
  },
  {
   "cell_type": "code",
   "execution_count": 10,
   "metadata": {},
   "outputs": [
    {
     "name": "stderr",
     "output_type": "stream",
     "text": [
      "/home/aerdem/projects/lofo-importance/lofo/lofo_importance.py:45: UserWarning: Warning: If your model is multithreaded, please initialise the numberof jobs of LOFO to be equal to 1, otherwise you may experience performance issues.\n",
      "  warnings.warn(warning_str)\n"
     ]
    },
    {
     "data": {
      "text/html": [
       "<div>\n",
       "<style scoped>\n",
       "    .dataframe tbody tr th:only-of-type {\n",
       "        vertical-align: middle;\n",
       "    }\n",
       "\n",
       "    .dataframe tbody tr th {\n",
       "        vertical-align: top;\n",
       "    }\n",
       "\n",
       "    .dataframe thead th {\n",
       "        text-align: right;\n",
       "    }\n",
       "</style>\n",
       "<table border=\"1\" class=\"dataframe\">\n",
       "  <thead>\n",
       "    <tr style=\"text-align: right;\">\n",
       "      <th></th>\n",
       "      <th>feature</th>\n",
       "      <th>importance_mean</th>\n",
       "      <th>importance_std</th>\n",
       "      <th>val_imp_0</th>\n",
       "      <th>val_imp_1</th>\n",
       "      <th>val_imp_2</th>\n",
       "      <th>val_imp_3</th>\n",
       "    </tr>\n",
       "  </thead>\n",
       "  <tbody>\n",
       "    <tr>\n",
       "      <th>5</th>\n",
       "      <td>names</td>\n",
       "      <td>0.232698</td>\n",
       "      <td>0.025097</td>\n",
       "      <td>2.480101e-01</td>\n",
       "      <td>0.193688</td>\n",
       "      <td>0.229018</td>\n",
       "      <td>0.260076</td>\n",
       "    </tr>\n",
       "    <tr>\n",
       "      <th>3</th>\n",
       "      <td>B</td>\n",
       "      <td>0.002641</td>\n",
       "      <td>0.001413</td>\n",
       "      <td>4.608295e-03</td>\n",
       "      <td>0.003212</td>\n",
       "      <td>0.000838</td>\n",
       "      <td>0.001906</td>\n",
       "    </tr>\n",
       "    <tr>\n",
       "      <th>2</th>\n",
       "      <td>A</td>\n",
       "      <td>0.000484</td>\n",
       "      <td>0.000535</td>\n",
       "      <td>1.256808e-03</td>\n",
       "      <td>-0.000140</td>\n",
       "      <td>0.000140</td>\n",
       "      <td>0.000681</td>\n",
       "    </tr>\n",
       "    <tr>\n",
       "      <th>1</th>\n",
       "      <td>D</td>\n",
       "      <td>-0.000067</td>\n",
       "      <td>0.000205</td>\n",
       "      <td>-1.110223e-16</td>\n",
       "      <td>0.000140</td>\n",
       "      <td>0.000000</td>\n",
       "      <td>-0.000408</td>\n",
       "    </tr>\n",
       "    <tr>\n",
       "      <th>4</th>\n",
       "      <td>interactions</td>\n",
       "      <td>-0.000071</td>\n",
       "      <td>0.000155</td>\n",
       "      <td>0.000000e+00</td>\n",
       "      <td>-0.000140</td>\n",
       "      <td>-0.000279</td>\n",
       "      <td>0.000136</td>\n",
       "    </tr>\n",
       "    <tr>\n",
       "      <th>0</th>\n",
       "      <td>C</td>\n",
       "      <td>-0.000102</td>\n",
       "      <td>0.000203</td>\n",
       "      <td>-1.396453e-04</td>\n",
       "      <td>0.000140</td>\n",
       "      <td>0.000000</td>\n",
       "      <td>-0.000408</td>\n",
       "    </tr>\n",
       "  </tbody>\n",
       "</table>\n",
       "</div>"
      ],
      "text/plain": [
       "        feature  importance_mean  importance_std     val_imp_0  val_imp_1  \\\n",
       "5         names         0.232698        0.025097  2.480101e-01   0.193688   \n",
       "3             B         0.002641        0.001413  4.608295e-03   0.003212   \n",
       "2             A         0.000484        0.000535  1.256808e-03  -0.000140   \n",
       "1             D        -0.000067        0.000205 -1.110223e-16   0.000140   \n",
       "4  interactions        -0.000071        0.000155  0.000000e+00  -0.000140   \n",
       "0             C        -0.000102        0.000203 -1.396453e-04   0.000140   \n",
       "\n",
       "   val_imp_2  val_imp_3  \n",
       "5   0.229018   0.260076  \n",
       "3   0.000838   0.001906  \n",
       "2   0.000140   0.000681  \n",
       "1   0.000000  -0.000408  \n",
       "4  -0.000279   0.000136  \n",
       "0   0.000000  -0.000408  "
      ]
     },
     "execution_count": 10,
     "metadata": {},
     "output_type": "execute_result"
    }
   ],
   "source": [
    "from sklearn.feature_extraction.text import CountVectorizer\n",
    "from lightgbm import LGBMClassifier\n",
    "\n",
    "df = generate_test_data(1000, text=True)\n",
    "features = [\"A\", \"B\", \"C\", \"D\"]\n",
    "\n",
    "cv = CountVectorizer(ngram_range=(3, 3), analyzer=\"char\")\n",
    "feature_groups = dict()\n",
    "feature_groups[\"names\"] = cv.fit_transform(df[\"T\"])\n",
    "feature_groups[\"interactions\"] = df[[\"A\", \"B\"]].values*df[[\"C\", \"D\"]].values\n",
    "\n",
    "dataset = Dataset(df=df, target=\"binary_target\", features=features, feature_groups=feature_groups)\n",
    "\n",
    "lgbm = LGBMClassifier(random_state=0, n_jobs=1)\n",
    "\n",
    "lofo = LOFOImportance(dataset, model=lgbm, cv=4, scoring='roc_auc', n_jobs=4)\n",
    "\n",
    "importances = lofo.get_importance()\n",
    "importances"
   ]
  },
  {
   "cell_type": "code",
   "execution_count": null,
   "metadata": {},
   "outputs": [],
   "source": []
  },
  {
   "cell_type": "code",
   "execution_count": null,
   "metadata": {},
   "outputs": [],
   "source": []
  }
 ],
 "metadata": {
  "kernelspec": {
   "display_name": "Python 3",
   "language": "python",
   "name": "python3"
  },
  "language_info": {
   "codemirror_mode": {
    "name": "ipython",
    "version": 3
   },
   "file_extension": ".py",
   "mimetype": "text/x-python",
   "name": "python",
   "nbconvert_exporter": "python",
   "pygments_lexer": "ipython3",
   "version": "3.6.9"
  },
  "toc": {
   "colors": {
    "hover_highlight": "#DAA520",
    "navigate_num": "#000000",
    "navigate_text": "#333333",
    "running_highlight": "#FF0000",
    "selected_highlight": "#FFD700",
    "sidebar_border": "#EEEEEE",
    "wrapper_background": "#FFFFFF"
   },
   "moveMenuLeft": true,
   "nav_menu": {
    "height": "12px",
    "width": "252px"
   },
   "navigate_menu": true,
   "number_sections": true,
   "sideBar": true,
   "threshold": 4,
   "toc_cell": false,
   "toc_section_display": "block",
   "toc_window_display": false,
   "widenNotebook": false
  }
 },
 "nbformat": 4,
 "nbformat_minor": 2
}
